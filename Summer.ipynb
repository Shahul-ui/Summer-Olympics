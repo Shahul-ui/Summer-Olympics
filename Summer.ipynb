{
  "nbformat": 4,
  "nbformat_minor": 0,
  "metadata": {
    "colab": {
      "name": "Summer.ipynb",
      "provenance": [],
      "collapsed_sections": [],
      "authorship_tag": "ABX9TyNF9bC4uY0zq/UyC6MMFpbS",
      "include_colab_link": true
    },
    "kernelspec": {
      "display_name": "Python 3",
      "name": "python3"
    },
    "language_info": {
      "name": "python"
    }
  },
  "cells": [
    {
      "cell_type": "markdown",
      "metadata": {
        "id": "view-in-github",
        "colab_type": "text"
      },
      "source": [
        "<a href=\"https://colab.research.google.com/github/Shahul-ui/Summer-Olympics/blob/main/Summer.ipynb\" target=\"_parent\"><img src=\"https://colab.research.google.com/assets/colab-badge.svg\" alt=\"Open In Colab\"/></a>"
      ]
    },
    {
      "cell_type": "code",
      "metadata": {
        "id": "bl1pSY9RjZI5"
      },
      "source": [
        "import pandas as pd\n",
        "import matplotlib.pyplot as plt\n",
        " \n",
        "df = pd.read_csv('summer.csv')"
      ],
      "execution_count": null,
      "outputs": []
    },
    {
      "cell_type": "markdown",
      "metadata": {
        "id": "uDyYjhD4t34K"
      },
      "source": [
        " 1. In how many cities Summer Olympics is held so far?"
      ]
    },
    {
      "cell_type": "code",
      "metadata": {
        "colab": {
          "base_uri": "https://localhost:8080/"
        },
        "id": "y820ML-apH8j",
        "outputId": "919cd683-c890-45ea-ef3c-6ec8ae86bc02"
      },
      "source": [
        "print('Q1 - Summer Olympics has been held in', len(df['City'].unique()),'cities so far\\n')"
      ],
      "execution_count": null,
      "outputs": [
        {
          "output_type": "stream",
          "name": "stdout",
          "text": [
            "Q1 - Summer Olympics has been held in 22 cities so far\n",
            "\n"
          ]
        }
      ]
    },
    {
      "cell_type": "markdown",
      "metadata": {
        "id": "01SCRfNGuukR"
      },
      "source": [
        "2. Which sport is having most number of Gold Medals so far? (Top 5)"
      ]
    },
    {
      "cell_type": "code",
      "metadata": {
        "colab": {
          "base_uri": "https://localhost:8080/",
          "height": 802
        },
        "id": "qXEysUxnrQbm",
        "outputId": "01201213-0990-4572-8a1b-ee42cb4e6ec3"
      },
      "source": [
        "data = []\n",
        "for p in df.loc[df['Medal'] == 'Gold', 'Sport'].value_counts().items():\n",
        " data.append(p)\n",
        "print('Q2 - Top 5 sport having the most number of gold medals')\n",
        "h = pd.DataFrame(data, columns = ['Sport', 'Gold Medals']).sort_values(by = 'Gold Medals', ascending = False).head()\n",
        "print(h, '\\n')\n",
        "h.plot(x = 'Sport', y = 'Gold Medals', kind = 'bar', figsize = (5, 5))"
      ],
      "execution_count": 42,
      "outputs": [
        {
          "output_type": "stream",
          "name": "stdout",
          "text": [
            "Q2 - Top 5 sport having the most number of gold medals\n",
            "        Sport  Gold Medals\n",
            "0    Aquatics         1421\n",
            "1   Athletics         1215\n",
            "2      Rowing          890\n",
            "3  Gymnastics          820\n",
            "4     Fencing          552 \n",
            "\n"
          ]
        },
        {
          "output_type": "execute_result",
          "data": {
            "text/plain": [
              "<matplotlib.axes._subplots.AxesSubplot at 0x7f3f81faa510>"
            ]
          },
          "metadata": {},
          "execution_count": 42
        },
        {
          "output_type": "display_data",
          "data": {
            "image/png": "[encoded data removed]",
            "text/plain": [
              "<Figure size 360x360 with 1 Axes>"
            ]
          },
          "metadata": {
            "needs_background": "light"
          }
        }
      ]
    },
    {
      "cell_type": "markdown",
      "metadata": {
        "id": "ogAmwRU-uhM3"
      },
      "source": [
        "3. Which sport is having most number of medals so far? (Top 5)"
      ]
    },
    {
      "cell_type": "code",
      "metadata": {
        "colab": {
          "base_uri": "https://localhost:8080/",
          "height": 535
        },
        "id": "jLRxkYRlrluH",
        "outputId": "b392f553-c365-4107-ee2a-bf2a98fee57d"
      },
      "source": [
        "data = []\n",
        "for p in df['Sport'].value_counts().items():\n",
        " data.append(p)\n",
        "print('Q3 - Top 5 sport having the most number of medals')\n",
        "h = pd.DataFrame(data, columns = ['Sport', 'Medals']).sort_values(by = 'Medals', ascending = False).head()\n",
        "print(h, '\\n')\n",
        "h.plot(x = 'Sport', y = 'Medals', kind = 'bar', figsize = (5, 5))"
      ],
      "execution_count": 43,
      "outputs": [
        {
          "output_type": "stream",
          "name": "stdout",
          "text": [
            "Q3 - Top 5 sport having the most number of medals\n",
            "        Sport  Medals\n",
            "0    Aquatics    4170\n",
            "1   Athletics    3638\n",
            "2      Rowing    2667\n",
            "3  Gymnastics    2307\n",
            "4     Fencing    1613 \n",
            "\n"
          ]
        },
        {
          "output_type": "execute_result",
          "data": {
            "text/plain": [
              "<matplotlib.axes._subplots.AxesSubplot at 0x7f3f82244810>"
            ]
          },
          "metadata": {},
          "execution_count": 43
        },
        {
          "output_type": "display_data",
          "data": {
            "image/png": "[encoded data removed]",
            "text/plain": [
              "<Figure size 360x360 with 1 Axes>"
            ]
          },
          "metadata": {
            "needs_background": "light"
          }
        }
      ]
    },
    {
      "cell_type": "markdown",
      "metadata": {
        "id": "fAL3bgGjuy4P"
      },
      "source": [
        " 4. Which player has won most number of medals? (Top 5)"
      ]
    },
    {
      "cell_type": "code",
      "metadata": {
        "colab": {
          "base_uri": "https://localhost:8080/",
          "height": 861
        },
        "id": "xo4tcKl9sJFQ",
        "outputId": "b6f37983-039b-4c6a-c3d0-9004be79951d"
      },
      "source": [
        "data = []\n",
        "for p in df['Athlete'].value_counts().items():\n",
        " data.append(p)\n",
        "print('Q4 - Top 5 players who have won the most number of medals')\n",
        "h = pd.DataFrame(data, columns = ['Athlete', 'Medals']).sort_values(by = 'Medals', ascending = False).head()\n",
        "print(h, '\\n')\n",
        "h.plot(x = 'Athlete', y = 'Medals', kind = 'bar', figsize = (5, 5))"
      ],
      "execution_count": 44,
      "outputs": [
        {
          "output_type": "stream",
          "name": "stdout",
          "text": [
            "Q4 - Top 5 players who have won the most number of medals\n",
            "                Athlete  Medals\n",
            "0       PHELPS, Michael      22\n",
            "1      LATYNINA, Larisa      18\n",
            "2    ANDRIANOV, Nikolay      15\n",
            "3       SHAKHLIN, Boris      13\n",
            "4  MANGIAROTTI, Edoardo      13 \n",
            "\n"
          ]
        },
        {
          "output_type": "execute_result",
          "data": {
            "text/plain": [
              "<matplotlib.axes._subplots.AxesSubplot at 0x7f3f822c4bd0>"
            ]
          },
          "metadata": {},
          "execution_count": 44
        },
        {
          "output_type": "display_data",
          "data": {
            "image/png": "[encoded data removed]",
            "text/plain": [
              "<Figure size 360x360 with 1 Axes>"
            ]
          },
          "metadata": {
            "needs_background": "light"
          }
        }
      ]
    },
    {
      "cell_type": "markdown",
      "metadata": {
        "id": "ZAEhzgNMu5AE"
      },
      "source": [
        " 5. Which player has won most number Gold Medals of medals? (Top 5)"
      ]
    },
    {
      "cell_type": "code",
      "metadata": {
        "id": "QktqnlxBQXQ6",
        "colab": {
          "base_uri": "https://localhost:8080/",
          "height": 829
        },
        "outputId": "ca4995e9-c956-4a70-a17b-20bdb4d6f91a"
      },
      "source": [
        " data = []\n",
        "for p in df.loc[df['Medal'] == 'Gold', 'Athlete'].value_counts().items():\n",
        "    data.append(p)\n",
        "print('Q5 - Top 5 players who have won the most number of gold medals')\n",
        "h = pd.DataFrame(data, columns = ['Athlete', 'Gold Medals']).sort_values(by = 'Gold Medals', ascending = False).head()\n",
        "print(h, '\\n')\n",
        "h.plot(x = 'Athlete', y = 'Gold Medals', kind = 'bar', figsize = (5, 5))"
      ],
      "execution_count": 45,
      "outputs": [
        {
          "output_type": "stream",
          "name": "stdout",
          "text": [
            "Q5 - Top 5 players who have won the most number of gold medals\n",
            "            Athlete  Gold Medals\n",
            "0   PHELPS, Michael           18\n",
            "2       LEWIS, Carl            9\n",
            "3  LATYNINA, Larisa            9\n",
            "4       SPITZ, Mark            9\n",
            "1      NURMI, Paavo            9 \n",
            "\n"
          ]
        },
        {
          "output_type": "execute_result",
          "data": {
            "text/plain": [
              "<matplotlib.axes._subplots.AxesSubplot at 0x7f3f8155b650>"
            ]
          },
          "metadata": {},
          "execution_count": 45
        },
        {
          "output_type": "display_data",
          "data": {
            "image/png": "[encoded data removed]",
            "text/plain": [
              "<Figure size 360x360 with 1 Axes>"
            ]
          },
          "metadata": {
            "needs_background": "light"
          }
        }
      ]
    },
    {
      "cell_type": "markdown",
      "metadata": {
        "id": "rGks1Tt8u-xD"
      },
      "source": [
        " 6. In which year India won first Gold Medal in Summer Olympics?"
      ]
    },
    {
      "cell_type": "code",
      "metadata": {
        "colab": {
          "base_uri": "https://localhost:8080/"
        },
        "id": "--PHIq_gspEc",
        "outputId": "9a657374-8849-48e0-9581-53768668fe1c"
      },
      "source": [
        "print('Q6 - India won it\\'s first gold medal in', df.loc[(df['Country'] == 'IND')&(df['Medal']=='Gold'),'Year'].values[0],'\\n')"
      ],
      "execution_count": 46,
      "outputs": [
        {
          "output_type": "stream",
          "name": "stdout",
          "text": [
            "Q6 - India won it's first gold medal in 1928 \n",
            "\n"
          ]
        }
      ]
    },
    {
      "cell_type": "markdown",
      "metadata": {
        "id": "J2w70znhvEeb"
      },
      "source": [
        " 7. Which event is most popular in terms on number of players? (Top 5)"
      ]
    },
    {
      "cell_type": "code",
      "metadata": {
        "colab": {
          "base_uri": "https://localhost:8080/",
          "height": 834
        },
        "id": "GN6AJmmaszpm",
        "outputId": "236809cd-d09b-4a41-916d-9747d3bcc68d"
      },
      "source": [
        "data = []\n",
        "for p in df['Event'].value_counts().items():\n",
        " data.append(p)\n",
        "print('Q7 - Top 5 popular events in terms on number of players')\n",
        "h = pd.DataFrame(data, columns = ['Event', 'No. of players']).sort_values(by = 'No. of players', ascending = False).head()\n",
        "print(h, '\\n')\n",
        "h.plot(x = 'Event', y = 'No. of players', kind = 'bar', figsize = (5, 5))"
      ],
      "execution_count": 47,
      "outputs": [
        {
          "output_type": "stream",
          "name": "stdout",
          "text": [
            "Q7 - Top 5 popular events in terms on number of players\n",
            "              Event  No. of players\n",
            "0          Football            1497\n",
            "1            Hockey            1422\n",
            "2  Team Competition            1147\n",
            "3        Basketball            1012\n",
            "4          Handball             973 \n",
            "\n"
          ]
        },
        {
          "output_type": "execute_result",
          "data": {
            "text/plain": [
              "<matplotlib.axes._subplots.AxesSubplot at 0x7f3f829ff590>"
            ]
          },
          "metadata": {},
          "execution_count": 47
        },
        {
          "output_type": "display_data",
          "data": {
            "image/png": "[encoded data removed]",
            "text/plain": [
              "<Figure size 360x360 with 1 Axes>"
            ]
          },
          "metadata": {
            "needs_background": "light"
          }
        }
      ]
    },
    {
      "cell_type": "markdown",
      "metadata": {
        "id": "xop6SwbAvWQO"
      },
      "source": [
        "8. Which sport is having most female Gold Medalists? (Top 5)"
      ]
    },
    {
      "cell_type": "code",
      "metadata": {
        "colab": {
          "base_uri": "https://localhost:8080/",
          "height": 713
        },
        "id": "NN73dC_C9Bzy",
        "outputId": "4f1e0a61-829b-4f41-8e09-f82617c614a8"
      },
      "source": [
        "data = []\n",
        "for p in df.loc[(df['Gender'] == 'Women') & (df['Medal'] == 'Gold'), 'Sport'].value_counts().items():\n",
        " data.append(p)\n",
        "print('Q8 - Top 5 sport having the most number of female gold medalists')\n",
        "h = pd.DataFrame(data, columns = ['Sport', 'Female Gold Medalists']).sort_values(by = 'Female Gold Medalists', ascending = False).head()\n",
        "print(h)\n",
        "h.plot(x = 'Sport', y = 'Female Gold Medalists', kind = 'bar', figsize = (5, 5))\n",
        " \n",
        "plt.show()"
      ],
      "execution_count": null,
      "outputs": [
        {
          "output_type": "stream",
          "name": "stdout",
          "text": [
            "Q8 - Top 5 sport having the most number of female gold medalists\n",
            "        Sport  Female Gold Medalists\n",
            "0    Aquatics                    589\n",
            "1   Athletics                    389\n",
            "2  Gymnastics                    268\n",
            "3      Rowing                    217\n",
            "4  Volleyball                    166\n"
          ]
        },
        {
          "output_type": "display_data",
          "data": {
            "image/png": "[encoded data removed]",
            "text/plain": [
              "<Figure size 360x360 with 1 Axes>"
            ]
          },
          "metadata": {
            "needs_background": "light"
          }
        }
      ]
    }
  ]
}